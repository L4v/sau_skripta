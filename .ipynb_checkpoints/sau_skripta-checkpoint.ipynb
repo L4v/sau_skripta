{
 "cells": [
  {
   "cell_type": "code",
   "execution_count": 7,
   "metadata": {},
   "outputs": [
    {
     "data": {
      "text/html": [
       "\n",
       "<style>\n",
       "\n",
       "div.text_cell_render { /* Customize text cells */\n",
       "font-family: 'Computer Modern';\n",
       "font-size:1.2em;\n",
       "}\n",
       "</style>\n"
      ],
      "text/plain": [
       "<IPython.core.display.HTML object>"
      ]
     },
     "execution_count": 7,
     "metadata": {},
     "output_type": "execute_result"
    }
   ],
   "source": [
    "%matplotlib notebook\n",
    "import matplotlib.pyplot as plt\n",
    "import numpy as np\n",
    "from IPython.core.display import HTML\n",
    "HTML(\"\"\"\n",
    "<style>\n",
    "\n",
    "div.text_cell_render { /* Customize text cells */\n",
    "font-family: 'Computer Modern';\n",
    "font-size:1.2em;\n",
    "}\n",
    "</style>\n",
    "\"\"\")"
   ]
  },
  {
   "cell_type": "markdown",
   "metadata": {},
   "source": [
    "<center><h1> SAU SKRIPTA ZA ISPITNA PITANJA 2018/2019</h1></center>"
   ]
  },
  {
   "cell_type": "markdown",
   "metadata": {},
   "source": [
    "## 1. Osnovno kolo SAU\n",
    "\n",
    "Osnovno kolo SAU se predstavlja dijagramom:\n",
    "\n",
    " <img src=\"images/povratna_sprega.png\" > \n",
    "\n",
    "Što se dalje pretvara:\n",
    "<img src=\"images/povratna_sprega_1.png\" > \n",
    "\n",
    "I konačno imamo:\n",
    "<img src=\"images/povratna_sprega_2.png\" > \n",
    "\n",
    "<b>Regulator</b> - njegov zadatak jeste da na osnovu izmerene greške <b>e</b> i željenog ulaza <b>r</b> prosledi naredbu aktuatoru koju on treba da izvrši preko upravljačkog signala\n",
    "\n",
    "<b>Aktuator</b> - pošto regulator izdaje relativno slabe signale, aktuator je tu da te slabe signale (komande) pretvori u fizički značajne signale, <b>u</b>, koje mogu uticati na sistem\n",
    "\n",
    "<b>Sistem</b> - objekat/proces koji posmatramo i na koji želimo da utičemo i njegov izlaz je <b>y</b>\n",
    "\n",
    "<b>Senzor</b> - merni instrument pomoću kojega očitavamo izlaz iz sistema, naravno ovaj instrument nije savršen, pa ni signal koji izlazi iz njega, te uvek postoji greška. Izlazni signal senzora je <b>ym</b>\n",
    "\n",
    "<b>Sistem u širem smislu </b>- ceo sistem posmatran od strane regulatora, u njega su spakovani aktuator, posmatrani sistem i senzor\n",
    "\n",
    "<b>***AKTUATOR SE SMATRA U OVOJ SLICI DA JE DEO REGULATORA KOJI PRILIKOM TRANSFORMACIJE U TRECU SLIKU SE ODVAJA OD REGULATORA I \"PAKUJE\" U \"SISTEM U SIREM SMISLU\" BLOK</b>"
   ]
  },
  {
   "cell_type": "markdown",
   "metadata": {},
   "source": [
    "## 2. Laplasova transformacija. Definicija i osobine. Laplasova transformacija karakterističnih pobudnih signala\n",
    "\n",
    "### Definicija Laplasove transformacije:\n",
    "$$\\mathscr{L}\\{f(t)\\} = \\int_{0}^{\\infty}e^{-st}f(t)dt = F(s)$$\n",
    "\n",
    "\n",
    "### Osobine Laplasove transformacije:\n",
    "\n",
    "  * <h5> 1. Linearnost:</h5>\n",
    "  >> $$\\mathscr{L}\\{Af(t) + Bg(t)\\} = AF(s) + BF(s)$$\n",
    "  * <h5> 2. Laplasova transformacija izvoda:</h5>\n",
    "  >> $$\\mathscr{L}\\{f'(t)\\} = \\int_{0}^{\\infty}e^{-st}f'(t)dt$$\n",
    "  >> $\\text{parcijalnom integracijom za: }$ $$du = -se^{-st}dt$$ $$v = f(t)$$\n",
    "  >> $\\text{dobijamo: }$ $$[e^{-st}f(t)]\\Big|_{0}^{\\infty} - \\int_{0}^{\\infty}-se^{-st}f(t)dt$$\n",
    "  >> $\\text{što je: }$ $$0 - f(0) + sF(s) = sF(s) - f(0) \\hspace{1cm}(1)$$\n",
    "  \n",
    "  >> $\\text{pa za drugi izvod sledi:}$\n",
    "  >> $$\\mathscr{L}\\{f''(t)\\} = \\int_{0}^{\\infty}e^{-st}f''(t)dt = \\int_{0}^{\\infty}e^{-st}(f'(t))'dt$$\n",
    "  >> $$(1) => s\\mathscr{L}\\{f'(t)\\} - f'(0) = s[sF(s) - f(0)] - f'(0) = s^2F(s) - sf(0) - f'(0)$$\n",
    "  \n",
    "  >> $\\text{te za n-ti izvod sledi:}$\n",
    "  >> $$\\mathscr{L}\\{f^{(n)}(t)\\} = \\sum_{i=1}^{n}s^{n-i}f^{(i-1)}(0)$$\n",
    "  \n",
    "  * <h5> 3. Laplasova transformacija integrala:</h5>\n",
    "  >> $$\\mathscr{L}\\{\\int_{0}^{t}f(\\tau)\\} = \\int_{0}^{\\infty}e^{-st}(\\int_{0}^{t}f(\\tau)d\\tau)dt$$ \n",
    "  \n",
    "  >> $\\text{primenom parcijalne integracije dobijamo:}$\n",
    "  $$ \\int_{0}^{t}f(\\tau)d\\tau \\frac{e^{-st}}{-s}\\Big|_{0}^{\\infty} - \\int_{0}^{\\infty}f(t)\\frac{e^{-st}}{-s}dt = 0-0 + \\frac{1}{s}\\int_{0}^{\\infty}f(t)e^{-st}dt = \\frac{1}{s}F(s) $$\n",
    "  \n",
    "  * <h5> 4. Množenje stepenom funkcijom:</h5>\n",
    "  >> $$ dF(s) = \\int_{0}^{\\infty}f(t)e^{-st}dt \\hspace{1cm}\\Big/\\frac{1}{ds} $$\n",
    "  >> $$ \\frac{dF(s)}{ds} = \\int_{0}^{\\infty}\\frac{\\partial e^{-st}}{\\partial s}f(t)dt = \\int_{0}^{\\infty}(-te^{-st})f(t)dt = -\\int_{0}^{\\infty}e^{-st}tf(t)dt = -\\mathscr{L}\\{tf(t)\\}$$\n",
    "  >> $$ => \\mathscr{L}\\{tf(t)\\} = -\\frac{dF(s)}{ds}$$\n",
    "  \n",
    "  * <h5> 5. Vremensko kašnjenje:</h5>\n",
    "  >> $$ \\mathscr{L}\\{f(t-\\tau\\} = \\int_{0}^{\\infty}f(u)e^{-s(u + \\tau)}du \\hspace{1cm}(3)$$\n",
    "  >> $\\text{gde je: }$ $$ u = t - \\tau $$\n",
    "  \n",
    "  >> $$ (3) = e^{-s\\tau}\\int_{0}^{\\infty}f(u)e^{-su}du = e^{-s\\tau}F(s) $$\n",
    "  \n",
    "  * <h5> 6. Pomeranje u kompleksnom domenu:</h5>\n",
    "  >> $$ \\mathscr{L}\\{e^{-at}f(t)\\} = \\int_{0}^{\\infty}f(t)e^{-t(s+a)}dt = F(s+a)$$\n",
    "\n",
    "  * <h5> 7. Laplasova transformacija konvolucije:</h5>\n",
    "  >> $$ (f*g)(t) \\equiv \\int_{0}^{t}f(t-\\tau)g(\\tau)d\\tau = \\int_{0}^{t}f(\\tau)g(t-\\tau)d\\tau $$\n",
    "  \n",
    "  >> $$ \\mathscr{L}\\{(f*g)(t)\\} = \\int_{0}^{\\infty}(f*g)(t)e^{-st}dt\\\\ = \\int_{0}^{\\infty}\\int_{0}^{t}f(t-\\tau)g(\\tau)e^{-st}d\\tau dt = \\int_{0}^{\\infty}\\int_{\\tau}^{\\infty}f(t-\\tau)g(\\tau)e^{-st}dtd\\tau \\hspace{1cm}(4)$$\n",
    "  >> $$ v = t-\\tau i dv=dt$$\n",
    "  >> $$ (4) = \\int_{0}^{\\infty}\\int_{0}^{\\infty}f(v)g(\\tau)e^{-s(v+\\tau)}dvd\\tau = \\int_{0}^{\\infty}f(v)e^{-sv}dv\\int_{0}^{\\infty}g(\\tau)e^{-s\\tau}d\\tau = F(S)G(S) $$\n",
    "  \n",
    "  * <h5> 8. Prva granična teorema:</h5>\n",
    "  >> $$ \\lim_{t\\to 0}f(t) = \\lim_{s\\to \\infty}sF(s) $$\n",
    "  \n",
    "  * <h5> 9. Druga granična teorema: </h5>\n",
    "  >> $$ \\lim_{t\\to\\infty}f(t) = \\lim_{s\\to 0}sF(s)$$\n",
    "  \n",
    "### Laplasova transformacija nekih karakterističnih signala:\n",
    "  * <h5> 1. Transformacija jedinične pobude h(t):</h5>\n",
    "  >> $\\text{Jedinična pobuda h(t), tj. heaviside signal je definisan kao:}$\n",
    "  $$\n",
    "  h(t) =\n",
    "  \\begin{cases}\n",
    "  1 , & t \\geq 0 \\\\\n",
    "  0, & t < 0\n",
    "  \\end{cases}\n",
    "  $$\n",
    "  \n",
    "  "
   ]
  },
  {
   "cell_type": "code",
   "execution_count": 46,
   "metadata": {},
   "outputs": [],
   "source": [
    "y = [1, 1];\n",
    "x = [0, 2];\n",
    "plt.plot(x, y);\n",
    "plt.ylim(-1, 2);\n",
    "plt.xlim(-1, 2);\n",
    "plt.axhline(y=0, color='k');\n",
    "plt.axvline(x=0, color='k');"
   ]
  },
  {
   "cell_type": "markdown",
   "metadata": {},
   "source": [
    " >> $$ \\mathscr{L}\\{h(t)\\} = \\int_{0}^{\\infty}h(t)e^{-st}dt = \\int_{0}^{\\infty}e^{-st}dt = \\frac{e^{-st}}{-s}\\big|_{0}^{\\infty} = \\frac{e^{-s\\infty}}{-s} - \\frac{e^{-0t}}{-s} = 0 - (-\\frac{1}{s}) =  \\frac{1}{s}$$\n",
    "  \n",
    "  * <h5> 2. Transformacija impulsne pobude:</h5>\n",
    "  >> $\\begin{align}\\text{Impulsna pobuda } \\delta(t) \\text{ je definisana kao:} \\end{align}$\n",
    "  $$\\delta(t) =\n",
    "  \\begin{cases}\n",
    "  \\text{nedefinisano} , & t = 0 \\\\\n",
    "  0, & t \\neq 0\n",
    "  \\end{cases}\n",
    "  \\\\\n",
    "  $$\n",
    "  \n",
    "  >>$ \\text{I važi:}\\\\ $\n",
    "  \n",
    "  >>$$\\int_{-\\infty}^{\\infty}\\delta(t)dt = h(t)$$\n",
    "  \n",
    "  \n",
    "  >> $$ \\mathscr{L}\\{\\delta(t)\\} = 1 $$"
   ]
  }
 ],
 "metadata": {
  "kernelspec": {
   "display_name": "venv",
   "language": "python",
   "name": "venv"
  },
  "language_info": {
   "codemirror_mode": {
    "name": "ipython",
    "version": 3
   },
   "file_extension": ".py",
   "mimetype": "text/x-python",
   "name": "python",
   "nbconvert_exporter": "python",
   "pygments_lexer": "ipython3",
   "version": "3.6.5"
  }
 },
 "nbformat": 4,
 "nbformat_minor": 2
}
