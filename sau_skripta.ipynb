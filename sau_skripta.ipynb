{
 "cells": [
  {
   "cell_type": "markdown",
   "metadata": {},
   "source": [
    "<center><h1> SAU SKRIPTA ZA ISPITNA PITANJA 2018/2019</h1></center>"
   ]
  },
  {
   "attachments": {},
   "cell_type": "markdown",
   "metadata": {},
   "source": [
    "### 1. Osnovno kolo SAU\n",
    "\n",
    "Osnovno kolo SAU se predstavlja dijagramom:\n",
    "\n",
    " <img src=\"images/povratna_sprega.png\" > \n",
    "\n",
    "Što se dalje pretvara:\n",
    "<img src=\"images/povratna_sprega_1.png\" > \n",
    "\n",
    "I konačno imamo:\n",
    "<img src=\"images/povratna_sprega_2.png\" > \n",
    "\n",
    "<b>Regulator</b> - njegov zadatak jeste da na osnovu izmerene greške <b>e</b> i željenog ulaza <b>r</b> prosledi naredbu aktuatoru koju on treba da izvrši preko upravljačkog signala\n",
    "\n",
    "<b>Aktuator</b> - pošto regulator izdaje relativno slabe signale, aktuator je tu da te slabe signale (komande) pretvori u fizički značajne signale, <b>u</b>, koje mogu uticati na sistem\n",
    "\n",
    "<b>Sistem</b> - objekat/proces koji posmatramo i na koji želimo da utičemo i njegov izlaz je <b>y</b>\n",
    "\n",
    "<b>Senzor</b> - merni instrument pomoću kojega očitavamo izlaz iz sistema, naravno ovaj instrument nije savršen, pa ni signal koji izlazi iz njega, te uvek postoji greška. Izlazni signal senzora je <b>ym</b>\n",
    "\n",
    "<b>Sistem u širem smislu </b>- ceo sistem posmatran od strane regulatora, u njega su spakovani aktuator, posmatrani sistem i senzor\n",
    "\n",
    "<b>***AKTUATOR SE SMATRA U OVOJ SLICI DA JE DEO REGULATORA KOJI PRILIKOM TRANSFORMACIJE U TRECU SLIKU SE ODVAJA OD REGULATORA I \"PAKUJE\" U \"SISTEM U SIREM SMISLU\" BLOK</b>"
   ]
  },
  {
   "cell_type": "markdown",
   "metadata": {},
   "source": [
    "### 2. Laplasova transformacija. Definicija i osobine. Laplasova transformacija karakterističnih pobudnih signala\n",
    "\n",
    "#### Definicija Laplasove transformacije:\n",
    "$$\\mathscr{L}\\{f(t)\\} = \\int_{0}^{\\infty}e^{-st}f(t)dt = F(s)$$\n",
    "\n",
    "\n",
    ">#### Osobine Laplasove transformacije:\n",
    "\n",
    "  >>##### 1. Linearnost:\n",
    "  >> $$\\mathscr{L}\\{Af(t) + Bg(t)\\} = AF(s) + BF(s)$$\n",
    "  >>##### 2. Laplasova transformacija izvoda:\n",
    "  >> $$\\mathscr{L}\\{f'(t)\\} = \\int_{0}^{\\infty}e^{-st}f'(t)dt$$\n",
    "  >> parcijalnom integracijom za: $$du = -se^{-st}dt$$ $$v = f(t)$$\n",
    "  >> dobijamo: $$[e^{-st}f(t)]\\Big|_{0}^{\\infty} - \\int_{0}^{\\infty}-se^{-st}f(t)dt$$\n",
    "  >> što je: $$0 - f(0) + sF(s) = sF(s) - f(0) \\hspace{1cm}(1)$$\n",
    "  \n",
    "  >> pa za drugi izvod sledi:\n",
    "  >> $$\\mathscr{L}\\{f''(t)\\} = \\int_{0}^{\\infty}e^{-st}f''(t)dt = \\int_{0}^{\\infty}e^{-st}(f'(t))'dt$$\n",
    "  >> $$(1) => s\\mathscr{L}\\{f'(t)\\} - f'(0) = s[sF(s) - f(0)] - f'(0) = s^2F(s) - sf(0) - f'(0)$$\n",
    "  \n",
    "  >> te za n-ti izvod sledi:\n",
    "  >> $$\\mathscr{L}\\{f^{(n)}(t)\\} = \\sum_{i=1}^{n}s^{n-i}f^{(i-1)}(0)$$\n"
   ]
  },
  {
   "cell_type": "code",
   "execution_count": null,
   "metadata": {},
   "outputs": [],
   "source": []
  }
 ],
 "metadata": {
  "kernelspec": {
   "display_name": "Python 3",
   "language": "python",
   "name": "python3"
  },
  "language_info": {
   "codemirror_mode": {
    "name": "ipython",
    "version": 3
   },
   "file_extension": ".py",
   "mimetype": "text/x-python",
   "name": "python",
   "nbconvert_exporter": "python",
   "pygments_lexer": "ipython3",
   "version": "3.7.3"
  }
 },
 "nbformat": 4,
 "nbformat_minor": 2
}
